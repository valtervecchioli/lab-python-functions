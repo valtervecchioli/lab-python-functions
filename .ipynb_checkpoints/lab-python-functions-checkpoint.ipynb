{
 "cells": [
  {
   "cell_type": "markdown",
   "id": "25d7736c-ba17-4aff-b6bb-66eba20fbf4e",
   "metadata": {},
   "source": [
    "# Lab | Functions"
   ]
  },
  {
   "cell_type": "markdown",
   "id": "0c581062-8967-4d93-b06e-62833222f930",
   "metadata": {
    "tags": []
   },
   "source": [
    "## Exercise: Managing Customer Orders with Functions\n",
    "\n",
    "In the previous exercise, you improved the code for managing customer orders by using loops and flow control. Now, let's take it a step further and refactor the code by introducing functions.\n",
    "\n",
    "Follow the steps below to complete the exercise:\n",
    "\n",
    "1. Define a function named `initialize_inventory` that takes `products` as a parameter. Inside the function, implement the code for initializing the inventory dictionary using a loop and user input.\n",
    "\n",
    "2. Define a function named `get_customer_orders` that takes no parameters. Inside the function, implement the code for prompting the user to enter the product names using a loop. The function should return the `customer_orders` set.\n",
    "\n",
    "3. Define a function named `update_inventory` that takes `customer_orders` and `inventory` as parameters. Inside the function, implement the code for updating the inventory dictionary based on the customer orders.\n",
    "\n",
    "4. Define a function named `calculate_order_statistics` that takes `customer_orders` and `products` as parameters. Inside the function, implement the code for calculating the order statistics (total products ordered, and percentage of unique products ordered). The function should return these values.\n",
    "\n",
    "5. Define a function named `print_order_statistics` that takes `order_statistics` as a parameter. Inside the function, implement the code for printing the order statistics.\n",
    "\n",
    "6. Define a function named `print_updated_inventory` that takes `inventory` as a parameter. Inside the function, implement the code for printing the updated inventory.\n",
    "\n",
    "7. Call the functions in the appropriate sequence to execute the program and manage customer orders.\n",
    "\n",
    "Hints for functions:\n",
    "\n",
    "- Consider the input parameters required for each function and their return values.\n",
    "- Utilize function parameters and return values to transfer data between functions.\n",
    "- Test your functions individually to ensure they work correctly.\n",
    "\n",
    "\n"
   ]
  },
  {
   "cell_type": "code",
   "execution_count": 17,
   "id": "cc3d67c0-1101-4e8e-a907-dca2d96dcf8d",
   "metadata": {},
   "outputs": [
    {
     "name": "stdin",
     "output_type": "stream",
     "text": [
      "please digit the number of t-shirt in the inventory: 7\n",
      "please digit the number of mug in the inventory: 8\n",
      "please digit the number of hat in the inventory: 4\n",
      "please digit the number of book in the inventory: 6\n",
      "please digit the number of keychain in the inventory: 3\n"
     ]
    },
    {
     "name": "stdout",
     "output_type": "stream",
     "text": [
      "{'t-shirt': 7, 'mug': 8, 'hat': 4, 'book': 6, 'keychain': 3}\n"
     ]
    }
   ],
   "source": [
    "#1\n",
    "\n",
    "products=[\"t-shirt\",\"mug\",\"hat\",\"book\",\"keychain\"]\n",
    "inventory={}\n",
    "def initialize_inventory():\n",
    "    for item in products:\n",
    "        quantity=int(input(f\"please digit the number of {item} in the inventory:\"))\n",
    "        inventory[item]=quantity\n",
    "\n",
    "initialize_inventory()\n",
    "print(inventory)"
   ]
  },
  {
   "cell_type": "code",
   "execution_count": 21,
   "id": "1b270064-8fb4-46c2-ab92-9c1a28ae28d7",
   "metadata": {},
   "outputs": [
    {
     "name": "stdin",
     "output_type": "stream",
     "text": [
      "please, select an item to order: t-shirt\n",
      "do you want to continue your order? yes\n",
      "please, select an item to order: mug\n",
      "do you want to continue your order? yes\n",
      "please, select an item to order: ball\n",
      "item unavailable. Please, select an item to order: keychain\n",
      "do you want to continue your order? no\n"
     ]
    },
    {
     "name": "stdout",
     "output_type": "stream",
     "text": [
      "thank you\n",
      "{'t-shirt', 'keychain', 'mug'}\n"
     ]
    }
   ],
   "source": [
    "#2\n",
    "customer_orders=set()\n",
    "def get_customer_orders():    \n",
    "    user_order=input(\"please, select an item to order:\")\n",
    "    user_answer=\"yes\"\n",
    "    while user_answer==\"yes\":\n",
    "        if user_order in products:\n",
    "            customer_orders.add(user_order)\n",
    "            user_answer=input(\"do you want to continue your order?\")\n",
    "            if user_answer==\"yes\":\n",
    "                user_order=input(\"please, select an item to order:\")\n",
    "            elif user_answer==\"no\":\n",
    "                print(\"thank you\")\n",
    "            else: user_answer=print(input(\"please, answer either 'yes' or 'no'\"))\n",
    "        else: user_order=input(\"item unavailable. Please, select an item to order:\")\n",
    "\n",
    "get_customer_orders()\n",
    "print(customer_orders)"
   ]
  },
  {
   "cell_type": "code",
   "execution_count": 51,
   "id": "59486b2e-c177-458b-8e2e-3b7e9183d378",
   "metadata": {},
   "outputs": [
    {
     "name": "stdin",
     "output_type": "stream",
     "text": [
      "please digit the number of t-shirt in the inventory: 1\n",
      "please digit the number of mug in the inventory: 1\n",
      "please digit the number of hat in the inventory: 1\n",
      "please digit the number of book in the inventory: 1\n",
      "please digit the number of keychain in the inventory: 1\n",
      "please, select an item to order: mug\n",
      "do you want to continue your order? yes\n",
      "please, select an item to order: book\n",
      "do you want to continue your order? no\n"
     ]
    },
    {
     "name": "stdout",
     "output_type": "stream",
     "text": [
      "thank you\n",
      "{'t-shirt': 1, 'mug': 2, 'hat': 1, 'book': 2, 'keychain': 1}\n"
     ]
    }
   ],
   "source": [
    "#3\n",
    "products=[\"t-shirt\",\"mug\",\"hat\",\"book\",\"keychain\"]\n",
    "inventory={}\n",
    "customer_orders=set()\n",
    "initialize_inventory()\n",
    "get_customer_orders()\n",
    "def update_inventory(customer_orders, inventory):\n",
    "    for item in customer_orders:\n",
    "        inventory[item]+=1\n",
    "update_inventory(customer_orders, inventory)\n",
    "print(inventory)    "
   ]
  },
  {
   "cell_type": "code",
   "execution_count": 55,
   "id": "d0f1934d-df41-41c7-a6c0-af26bab74ea3",
   "metadata": {},
   "outputs": [
    {
     "name": "stdout",
     "output_type": "stream",
     "text": [
      "2\n",
      "28.571428571428573%\n"
     ]
    }
   ],
   "source": [
    "#4\n",
    "def calculate_order_statistics(customer_orders, products):\n",
    "    total_products_ordered = len(customer_orders)\n",
    "    perc_products_ordered = (total_products_ordered*100)/sum(inventory.values())\n",
    "    print(total_products_ordered)\n",
    "    print(f\"{perc_products_ordered}%\")\n",
    "\n",
    "calculate_order_statistics(customer_orders, products)"
   ]
  },
  {
   "cell_type": "code",
   "execution_count": 82,
   "id": "64dd842d-343d-497b-ad58-a2d62e091acf",
   "metadata": {},
   "outputs": [
    {
     "name": "stdout",
     "output_type": "stream",
     "text": [
      "2\n",
      "28.571428571428573%\n"
     ]
    }
   ],
   "source": [
    "#5\n",
    "\n",
    "def print_order_statistics():\n",
    "    total_products_ordered = len(customer_orders)\n",
    "    perc_products_ordered = (total_products_ordered*100)/sum(inventory.values())\n",
    "    print(total_products_ordered)\n",
    "    print(f\"{perc_products_ordered}%\")\n",
    "print_order_statistics()"
   ]
  },
  {
   "cell_type": "code",
   "execution_count": 83,
   "id": "5b4fe853-eaea-40b2-a2de-7a7e910657c9",
   "metadata": {},
   "outputs": [
    {
     "data": {
      "text/plain": [
       "{'t-shirt': 1, 'mug': 2, 'hat': 1, 'book': 2, 'keychain': 1}"
      ]
     },
     "execution_count": 83,
     "metadata": {},
     "output_type": "execute_result"
    }
   ],
   "source": [
    "#6\n",
    "\n",
    "def print_updated_inventory(inventory):\n",
    "    return inventory\n",
    "\n",
    "print_updated_inventory(inventory)"
   ]
  },
  {
   "cell_type": "code",
   "execution_count": 85,
   "id": "9def5cb6-e4c2-42bb-90ed-12527f486c23",
   "metadata": {},
   "outputs": [
    {
     "name": "stdin",
     "output_type": "stream",
     "text": [
      "please digit the number of t-shirt in the inventory: 7\n",
      "please digit the number of mug in the inventory: 6\n",
      "please digit the number of hat in the inventory: 9\n",
      "please digit the number of book in the inventory: 13\n",
      "please digit the number of keychain in the inventory: 21\n",
      "please, select an item to order: keychain\n",
      "do you want to continue your order? yes\n",
      "please, select an item to order: book\n",
      "do you want to continue your order? yes\n",
      "please, select an item to order: myg\n",
      "item unavailable. Please, select an item to order: mug\n",
      "do you want to continue your order? no\n"
     ]
    },
    {
     "name": "stdout",
     "output_type": "stream",
     "text": [
      "thank you\n",
      "3\n",
      "5.084745762711864%\n",
      "3\n",
      "5.084745762711864%\n"
     ]
    },
    {
     "data": {
      "text/plain": [
       "{'t-shirt': 7, 'mug': 7, 'hat': 9, 'book': 14, 'keychain': 22}"
      ]
     },
     "execution_count": 85,
     "metadata": {},
     "output_type": "execute_result"
    }
   ],
   "source": [
    "initialize_inventory()\n",
    "get_customer_orders()\n",
    "update_inventory(customer_orders, inventory)\n",
    "calculate_order_statistics(customer_orders, products)\n",
    "print_order_statistics()\n",
    "print_updated_inventory(inventory)"
   ]
  },
  {
   "cell_type": "code",
   "execution_count": null,
   "id": "12827dd0-82a2-40a9-a4e0-05a52af3bba4",
   "metadata": {},
   "outputs": [],
   "source": []
  }
 ],
 "metadata": {
  "kernelspec": {
   "display_name": "Python 3 (ipykernel)",
   "language": "python",
   "name": "python3"
  },
  "language_info": {
   "codemirror_mode": {
    "name": "ipython",
    "version": 3
   },
   "file_extension": ".py",
   "mimetype": "text/x-python",
   "name": "python",
   "nbconvert_exporter": "python",
   "pygments_lexer": "ipython3",
   "version": "3.11.7"
  }
 },
 "nbformat": 4,
 "nbformat_minor": 5
}
